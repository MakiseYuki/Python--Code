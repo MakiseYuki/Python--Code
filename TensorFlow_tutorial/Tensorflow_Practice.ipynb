{
 "metadata": {
  "language_info": {
   "codemirror_mode": {
    "name": "ipython",
    "version": 3
   },
   "file_extension": ".py",
   "mimetype": "text/x-python",
   "name": "python",
   "nbconvert_exporter": "python",
   "pygments_lexer": "ipython3",
   "version": "3.6.8-final"
  },
  "orig_nbformat": 2,
  "kernelspec": {
   "name": "Python 3.6.8 64-bit",
   "display_name": "Python 3.6.8 64-bit",
   "metadata": {
    "interpreter": {
     "hash": "2e5c6628eef985e7fd2fa2aad22c988c5b8aa1d2648cf9c51c543a2a2637c546"
    }
   }
  }
 },
 "nbformat": 4,
 "nbformat_minor": 2,
 "cells": [
  {
   "cell_type": "code",
   "execution_count": 27,
   "metadata": {
    "tags": []
   },
   "outputs": [
    {
     "output_type": "stream",
     "name": "stdout",
     "text": "tensorflow version 2.3.1\nResult:[[12.]]\n"
    }
   ],
   "source": [
    "import tensorflow as tf\n",
    "from tensorflow import keras\n",
    "from tensorflow.keras import layers\n",
    "import numpy as np\n",
    "from tensorflow.python.client import device_lib\n",
    "\n",
    "print('tensorflow version',tf.__version__)\n",
    "\n",
    "x = [[3.]]\n",
    "y = [[4.]]\n",
    "print('Result:{}'.format(tf.matmul(x,y)))"
   ]
  },
  {
   "cell_type": "code",
   "execution_count": 28,
   "metadata": {
    "tags": []
   },
   "outputs": [
    {
     "output_type": "stream",
     "name": "stdout",
     "text": "[name: &quot;/device:CPU:0&quot;\ndevice_type: &quot;CPU&quot;\nmemory_limit: 268435456\nlocality {\n}\nincarnation: 11429817421096618177\n, name: &quot;/device:XLA_CPU:0&quot;\ndevice_type: &quot;XLA_CPU&quot;\nmemory_limit: 17179869184\nlocality {\n}\nincarnation: 1178496050685700997\nphysical_device_desc: &quot;device: XLA_CPU device&quot;\n, name: &quot;/device:XLA_GPU:0&quot;\ndevice_type: &quot;XLA_GPU&quot;\nmemory_limit: 17179869184\nlocality {\n}\nincarnation: 4761158332721499567\nphysical_device_desc: &quot;device: XLA_GPU device&quot;\n]\n"
    }
   ],
   "source": [
    "print(device_lib.list_local_devices())"
   ]
  },
  {
   "cell_type": "code",
   "execution_count": 29,
   "metadata": {
    "tags": []
   },
   "outputs": [],
   "source": [
    "mnist = tf.keras.datasets.mnist\n",
    "\n",
    "(x_train, y_train), (x_test, y_test) = mnist.load_data()\n",
    "x_train, x_test = x_train / 255.0, x_test / 255.0"
   ]
  },
  {
   "cell_type": "code",
   "execution_count": 30,
   "metadata": {},
   "outputs": [],
   "source": [
    "model = tf.keras.models.Sequential([\n",
    "  tf.keras.layers.Flatten(input_shape=(28, 28)),\n",
    "  tf.keras.layers.Dense(128, activation='relu'),\n",
    "  tf.keras.layers.Dropout(0.2),\n",
    "  tf.keras.layers.Dense(10)\n",
    "])"
   ]
  },
  {
   "cell_type": "code",
   "execution_count": 31,
   "metadata": {},
   "outputs": [
    {
     "output_type": "execute_result",
     "data": {
      "text/plain": "array([[-1.4316803e-01, -6.2647700e-01, -4.0834403e-01, -7.3497611e-01,\n         2.0402095e-01,  1.0499082e+00,  3.2707125e-01,  9.2745572e-04,\n        -7.3698175e-01,  1.1405690e-01]], dtype=float32)"
     },
     "metadata": {},
     "execution_count": 31
    }
   ],
   "source": [
    "predictions = model(x_train[:1]).numpy()\n",
    "predictions"
   ]
  },
  {
   "cell_type": "code",
   "execution_count": 32,
   "metadata": {},
   "outputs": [
    {
     "output_type": "execute_result",
     "data": {
      "text/plain": "array([[0.0816303 , 0.05034461, 0.06261623, 0.04516816, 0.11551374,\n        0.2691521 , 0.13063926, 0.09428254, 0.04507766, 0.10557541]],\n      dtype=float32)"
     },
     "metadata": {},
     "execution_count": 32
    }
   ],
   "source": [
    "tf.nn.softmax(predictions).numpy()"
   ]
  },
  {
   "cell_type": "code",
   "execution_count": 33,
   "metadata": {},
   "outputs": [],
   "source": [
    "loss_fn = tf.keras.losses.SparseCategoricalCrossentropy(from_logits=True)"
   ]
  },
  {
   "cell_type": "code",
   "execution_count": 34,
   "metadata": {},
   "outputs": [
    {
     "output_type": "execute_result",
     "data": {
      "text/plain": "1.3124785"
     },
     "metadata": {},
     "execution_count": 34
    }
   ],
   "source": [
    "loss_fn(y_train[:1], predictions).numpy()"
   ]
  },
  {
   "cell_type": "code",
   "execution_count": 35,
   "metadata": {},
   "outputs": [],
   "source": [
    "model.compile(optimizer='adam', loss=loss_fn, metrics=['accuracy'])"
   ]
  },
  {
   "cell_type": "code",
   "execution_count": 36,
   "metadata": {
    "tags": []
   },
   "outputs": [
    {
     "output_type": "stream",
     "name": "stdout",
     "text": "Epoch 1/5\n1875/1875 [==============================] - 1s 497us/step - loss: 0.2985 - accuracy: 0.9138\nEpoch 2/5\n1875/1875 [==============================] - 1s 489us/step - loss: 0.1416 - accuracy: 0.9584\nEpoch 3/5\n1875/1875 [==============================] - 1s 502us/step - loss: 0.1075 - accuracy: 0.9682\nEpoch 4/5\n1875/1875 [==============================] - 1s 492us/step - loss: 0.0885 - accuracy: 0.9730\nEpoch 5/5\n1875/1875 [==============================] - 1s 490us/step - loss: 0.0762 - accuracy: 0.9760\n"
    },
    {
     "output_type": "execute_result",
     "data": {
      "text/plain": "&lt;tensorflow.python.keras.callbacks.History at 0x28e951a0630&gt;"
     },
     "metadata": {},
     "execution_count": 36
    }
   ],
   "source": [
    "model.fit(x_train, y_train, epochs=5)"
   ]
  },
  {
   "cell_type": "code",
   "execution_count": 37,
   "metadata": {
    "tags": []
   },
   "outputs": [
    {
     "output_type": "stream",
     "name": "stdout",
     "text": "313/313 - 0s - loss: 0.0804 - accuracy: 0.9742\n"
    },
    {
     "output_type": "execute_result",
     "data": {
      "text/plain": "[0.08038263767957687, 0.9742000102996826]"
     },
     "metadata": {},
     "execution_count": 37
    }
   ],
   "source": [
    "model.evaluate(x_test,  y_test, verbose=2)\n"
   ]
  },
  {
   "cell_type": "code",
   "execution_count": 38,
   "metadata": {},
   "outputs": [],
   "source": [
    "probability_model = tf.keras.Sequential([\n",
    "  model,\n",
    "  tf.keras.layers.Softmax()\n",
    "])"
   ]
  },
  {
   "cell_type": "code",
   "execution_count": 39,
   "metadata": {},
   "outputs": [
    {
     "output_type": "execute_result",
     "data": {
      "text/plain": "&lt;tf.Tensor: shape=(5, 10), dtype=float32, numpy=\narray([[2.40109905e-08, 6.60775754e-08, 4.22205517e-07, 3.08718736e-05,\n        1.31356170e-09, 2.38703493e-08, 7.89902269e-13, 9.99965549e-01,\n        5.16754888e-08, 3.05845560e-06],\n       [3.91180999e-09, 1.16960968e-04, 9.99880433e-01, 2.52384280e-06,\n        3.75332411e-15, 1.12024694e-07, 4.54909665e-09, 2.10496963e-12,\n        1.33838824e-08, 7.44708860e-14],\n       [3.26648632e-07, 9.99599278e-01, 1.81972588e-04, 1.17589525e-06,\n        7.90936156e-06, 1.37180757e-06, 3.18614025e-06, 1.98198482e-04,\n        6.15604085e-06, 3.23700732e-07],\n       [9.99964595e-01, 6.42930971e-08, 1.62141841e-05, 7.16204795e-07,\n        1.07679703e-07, 6.24815129e-06, 1.98611383e-06, 9.22563049e-06,\n        4.93391532e-08, 8.06191906e-07],\n       [2.30204023e-06, 2.37927122e-09, 1.22889219e-06, 8.95977248e-09,\n        9.94749963e-01, 5.83669475e-07, 5.23239078e-06, 3.47223831e-05,\n        1.13924315e-07, 5.20582497e-03]], dtype=float32)&gt;"
     },
     "metadata": {},
     "execution_count": 39
    }
   ],
   "source": [
    "probability_model(x_test[:5])\n"
   ]
  }
 ]
}